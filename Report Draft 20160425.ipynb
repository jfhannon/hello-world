{
 "cells": [
  {
   "cell_type": "markdown",
   "metadata": {},
   "source": [
    "This is just a test to explore a few possibilities.\n"
   ]
  },
  {
   "cell_type": "code",
   "execution_count": 1,
   "metadata": {
    "collapsed": false
   },
   "outputs": [
    {
     "data": {
      "text/plain": [
       "8"
      ]
     },
     "execution_count": 1,
     "metadata": {},
     "output_type": "execute_result"
    }
   ],
   "source": [
    "5 + 3"
   ]
  },
  {
   "cell_type": "code",
   "execution_count": 2,
   "metadata": {
    "collapsed": false
   },
   "outputs": [
    {
     "data": {
      "text/html": [
       "\n",
       "\n",
       "    <script type=\"text/javascript\">\n",
       "      \n",
       "      (function(global) {\n",
       "        function now() {\n",
       "          return new Date();\n",
       "        }\n",
       "      \n",
       "        if (typeof (window._bokeh_onload_callbacks) === \"undefined\") {\n",
       "          window._bokeh_onload_callbacks = [];\n",
       "        }\n",
       "      \n",
       "        function run_callbacks() {\n",
       "          window._bokeh_onload_callbacks.forEach(function(callback) { callback() });\n",
       "          delete window._bokeh_onload_callbacks\n",
       "          console.info(\"Bokeh: all callbacks have finished\");\n",
       "        }\n",
       "      \n",
       "        function load_libs(js_urls, callback) {\n",
       "          window._bokeh_onload_callbacks.push(callback);\n",
       "          if (window._bokeh_is_loading > 0) {\n",
       "            console.log(\"Bokeh: BokehJS is being loaded, scheduling callback at\", now());\n",
       "            return null;\n",
       "          }\n",
       "          if (js_urls == null || js_urls.length === 0) {\n",
       "            run_callbacks();\n",
       "            return null;\n",
       "          }\n",
       "          console.log(\"Bokeh: BokehJS not loaded, scheduling load and callback at\", now());\n",
       "          window._bokeh_is_loading = js_urls.length;\n",
       "          for (var i = 0; i < js_urls.length; i++) {\n",
       "            var url = js_urls[i];\n",
       "            var s = document.createElement('script');\n",
       "            s.src = url;\n",
       "            s.async = false;\n",
       "            s.onreadystatechange = s.onload = function() {\n",
       "              window._bokeh_is_loading--;\n",
       "              if (window._bokeh_is_loading === 0) {\n",
       "                console.log(\"Bokeh: all BokehJS libraries loaded\");\n",
       "                run_callbacks()\n",
       "              }\n",
       "            };\n",
       "            s.onerror = function() {\n",
       "              console.warn(\"failed to load library \" + url);\n",
       "            };\n",
       "            console.log(\"Bokeh: injecting script tag for BokehJS library: \", url);\n",
       "            document.getElementsByTagName(\"head\")[0].appendChild(s);\n",
       "          }\n",
       "        };var js_urls = ['https://cdn.pydata.org/bokeh/release/bokeh-0.11.0.min.js', 'https://cdn.pydata.org/bokeh/release/bokeh-widgets-0.11.0.min.js', 'https://cdn.pydata.org/bokeh/release/bokeh-compiler-0.11.0.min.js'];\n",
       "      \n",
       "        var inline_js = [\n",
       "          function(Bokeh) {\n",
       "            Bokeh.set_log_level(\"info\");\n",
       "          },\n",
       "          function(Bokeh) {\n",
       "            console.log(\"Bokeh: injecting CSS: https://cdn.pydata.org/bokeh/release/bokeh-0.11.0.min.css\");\n",
       "            Bokeh.embed.inject_css(\"https://cdn.pydata.org/bokeh/release/bokeh-0.11.0.min.css\");\n",
       "            console.log(\"Bokeh: injecting CSS: https://cdn.pydata.org/bokeh/release/bokeh-widgets-0.11.0.min.css\");\n",
       "            Bokeh.embed.inject_css(\"https://cdn.pydata.org/bokeh/release/bokeh-widgets-0.11.0.min.css\");\n",
       "          }\n",
       "        ];\n",
       "      \n",
       "        function run_inline_js() {\n",
       "          for (var i = 0; i < inline_js.length; i++) {\n",
       "            inline_js[i](window.Bokeh);\n",
       "          }\n",
       "        }\n",
       "      \n",
       "        if (window._bokeh_is_loading === 0) {\n",
       "          console.log(\"Bokeh: BokehJS loaded, going straight to plotting\");\n",
       "          run_inline_js();\n",
       "        } else {\n",
       "          load_libs(js_urls, function() {\n",
       "            console.log(\"Bokeh: BokehJS plotting callback run at\", now());\n",
       "            run_inline_js();\n",
       "          });\n",
       "        }\n",
       "      }(this));\n",
       "    </script>\n",
       "    <div>\n",
       "        <a href=\"http://bokeh.pydata.org\" target=\"_blank\" class=\"bk-logo bk-logo-small bk-logo-notebook\"></a>\n",
       "        <span>BokehJS successfully loaded.</span>\n",
       "    </div>"
      ]
     },
     "metadata": {},
     "output_type": "display_data"
    },
    {
     "data": {
      "text/html": [
       "\n",
       "\n",
       "    <div class=\"plotdiv\" id=\"e65b783c-927d-4335-983e-fd34815c700f\"></div>\n",
       "<script type=\"text/javascript\">\n",
       "  \n",
       "  (function(global) {\n",
       "    function now() {\n",
       "      return new Date();\n",
       "    }\n",
       "  \n",
       "    if (typeof (window._bokeh_onload_callbacks) === \"undefined\") {\n",
       "      window._bokeh_onload_callbacks = [];\n",
       "    }\n",
       "  \n",
       "    function run_callbacks() {\n",
       "      window._bokeh_onload_callbacks.forEach(function(callback) { callback() });\n",
       "      delete window._bokeh_onload_callbacks\n",
       "      console.info(\"Bokeh: all callbacks have finished\");\n",
       "    }\n",
       "  \n",
       "    function load_libs(js_urls, callback) {\n",
       "      window._bokeh_onload_callbacks.push(callback);\n",
       "      if (window._bokeh_is_loading > 0) {\n",
       "        console.log(\"Bokeh: BokehJS is being loaded, scheduling callback at\", now());\n",
       "        return null;\n",
       "      }\n",
       "      if (js_urls == null || js_urls.length === 0) {\n",
       "        run_callbacks();\n",
       "        return null;\n",
       "      }\n",
       "      console.log(\"Bokeh: BokehJS not loaded, scheduling load and callback at\", now());\n",
       "      window._bokeh_is_loading = js_urls.length;\n",
       "      for (var i = 0; i < js_urls.length; i++) {\n",
       "        var url = js_urls[i];\n",
       "        var s = document.createElement('script');\n",
       "        s.src = url;\n",
       "        s.async = false;\n",
       "        s.onreadystatechange = s.onload = function() {\n",
       "          window._bokeh_is_loading--;\n",
       "          if (window._bokeh_is_loading === 0) {\n",
       "            console.log(\"Bokeh: all BokehJS libraries loaded\");\n",
       "            run_callbacks()\n",
       "          }\n",
       "        };\n",
       "        s.onerror = function() {\n",
       "          console.warn(\"failed to load library \" + url);\n",
       "        };\n",
       "        console.log(\"Bokeh: injecting script tag for BokehJS library: \", url);\n",
       "        document.getElementsByTagName(\"head\")[0].appendChild(s);\n",
       "      }\n",
       "    };var element = document.getElementById(\"e65b783c-927d-4335-983e-fd34815c700f\");\n",
       "    if (element == null) {\n",
       "      console.log(\"Bokeh: ERROR: autoload.js configured with elementid 'e65b783c-927d-4335-983e-fd34815c700f' but no matching script tag was found. \")\n",
       "      return false;\n",
       "    }var js_urls = [];\n",
       "  \n",
       "    var inline_js = [\n",
       "      function(Bokeh) {\n",
       "        Bokeh.$(function() {\n",
       "            var docs_json = {\"f7fe0e7a-b462-486d-ac48-cf7e3d65a0c8\": {\"version\": \"0.11.0\", \"roots\": {\"root_ids\": [\"06fd04fe-3956-4200-8553-33e5fa893a31\"], \"references\": [{\"attributes\": {\"plot\": {\"subtype\": \"Chart\", \"type\": \"Plot\", \"id\": \"06fd04fe-3956-4200-8553-33e5fa893a31\"}}, \"type\": \"ResizeTool\", \"id\": \"a63e28c6-1a0e-4762-b04a-485dbb4791ca\"}, {\"attributes\": {\"plot\": {\"subtype\": \"Chart\", \"type\": \"Plot\", \"id\": \"06fd04fe-3956-4200-8553-33e5fa893a31\"}, \"overlay\": {\"type\": \"BoxAnnotation\", \"id\": \"393925d2-5865-4266-9b27-cc353a21779c\"}}, \"type\": \"BoxZoomTool\", \"id\": \"d68cb5fd-930b-4a3d-a500-a8c374a92bf4\"}, {\"attributes\": {\"nonselection_glyph\": null, \"data_source\": {\"type\": \"ColumnDataSource\", \"id\": \"0fe0584d-055e-4011-b5ff-70ceb31e265f\"}, \"selection_glyph\": null, \"hover_glyph\": null, \"glyph\": {\"type\": \"Rect\", \"id\": \"d820799f-21ee-4e14-b4d1-d67f58d118c0\"}}, \"type\": \"GlyphRenderer\", \"id\": \"fe3d0b21-567b-4ae9-a397-d82018ad3c6e\"}, {\"attributes\": {\"plot\": {\"subtype\": \"Chart\", \"type\": \"Plot\", \"id\": \"06fd04fe-3956-4200-8553-33e5fa893a31\"}}, \"type\": \"WheelZoomTool\", \"id\": \"abf0c30d-b518-4968-a586-49609fc76fd9\"}, {\"attributes\": {\"plot\": {\"subtype\": \"Chart\", \"type\": \"Plot\", \"id\": \"06fd04fe-3956-4200-8553-33e5fa893a31\"}}, \"type\": \"PreviewSaveTool\", \"id\": \"5152f246-b4d1-48a0-bca0-e5d891ea10e1\"}, {\"attributes\": {\"callback\": null, \"factors\": [\"3\", \"4\", \"5\", \"6\", \"8\"]}, \"type\": \"FactorRange\", \"id\": \"43493067-10e6-4c18-b1bf-9bc4704cd5c6\"}, {\"attributes\": {\"line_color\": {\"field\": \"line_color\"}, \"fill_color\": {\"field\": \"color\"}, \"fill_alpha\": {\"field\": \"fill_alpha\"}, \"height\": {\"units\": \"data\", \"field\": \"height\"}, \"width\": {\"units\": \"data\", \"field\": \"width\"}, \"y\": {\"field\": \"y\"}, \"x\": {\"field\": \"x\"}}, \"type\": \"Rect\", \"id\": \"7c0e3c0b-83cc-40f9-91a8-47976492e76a\"}, {\"attributes\": {\"line_color\": {\"field\": \"line_color\"}, \"fill_color\": {\"field\": \"color\"}, \"fill_alpha\": {\"field\": \"fill_alpha\"}, \"height\": {\"units\": \"data\", \"field\": \"height\"}, \"width\": {\"units\": \"data\", \"field\": \"width\"}, \"y\": {\"field\": \"y\"}, \"x\": {\"field\": \"x\"}}, \"type\": \"Rect\", \"id\": \"32fd2cb2-c007-4fe1-a2df-1d622413fb1a\"}, {\"attributes\": {}, \"type\": \"BasicTickFormatter\", \"id\": \"22381773-18d7-457b-bcae-a3972e1e93ec\"}, {\"attributes\": {\"callback\": null, \"column_names\": [\"line_color\", \"line_alpha\", \"color\", \"fill_alpha\", \"height\", \"width\", \"y\", \"x\"], \"data\": {\"line_color\": [\"white\"], \"line_alpha\": [1.0], \"chart_index\": [{\"cyl\": 4}], \"color\": [\"#f22c40\"], \"fill_alpha\": [0.8], \"height\": [5827.5], \"width\": [0.8], \"y\": [2913.75], \"x\": [\"4\"], \"cyl\": [4]}}, \"type\": \"ColumnDataSource\", \"id\": \"0fe0584d-055e-4011-b5ff-70ceb31e265f\"}, {\"attributes\": {\"line_color\": {\"field\": \"line_color\"}, \"fill_color\": {\"field\": \"color\"}, \"fill_alpha\": {\"field\": \"fill_alpha\"}, \"height\": {\"units\": \"data\", \"field\": \"height\"}, \"width\": {\"units\": \"data\", \"field\": \"width\"}, \"y\": {\"field\": \"y\"}, \"x\": {\"field\": \"x\"}}, \"type\": \"Rect\", \"id\": \"d820799f-21ee-4e14-b4d1-d67f58d118c0\"}, {\"attributes\": {\"line_color\": {\"value\": \"black\"}, \"line_alpha\": {\"value\": 1.0}, \"render_mode\": \"css\", \"bottom_units\": \"screen\", \"level\": \"overlay\", \"top_units\": \"screen\", \"fill_alpha\": {\"value\": 0.5}, \"plot\": null, \"left_units\": \"screen\", \"line_dash\": [4, 4], \"line_width\": {\"value\": 2}, \"right_units\": \"screen\", \"fill_color\": {\"value\": \"lightgrey\"}}, \"type\": \"BoxAnnotation\", \"id\": \"393925d2-5865-4266-9b27-cc353a21779c\"}, {\"attributes\": {\"line_color\": {\"field\": \"line_color\"}, \"fill_color\": {\"field\": \"color\"}, \"fill_alpha\": {\"field\": \"fill_alpha\"}, \"height\": {\"units\": \"data\", \"field\": \"height\"}, \"width\": {\"units\": \"data\", \"field\": \"width\"}, \"y\": {\"field\": \"y\"}, \"x\": {\"field\": \"x\"}}, \"type\": \"Rect\", \"id\": \"b118a812-a483-40b8-9eb7-485530537d6d\"}, {\"attributes\": {\"major_label_orientation\": 0.7853981633974483, \"plot\": {\"subtype\": \"Chart\", \"type\": \"Plot\", \"id\": \"06fd04fe-3956-4200-8553-33e5fa893a31\"}, \"axis_label\": \"Cyl\", \"formatter\": {\"type\": \"CategoricalTickFormatter\", \"id\": \"a2d5d3a6-95c1-4bc5-bae3-161d781fa28e\"}, \"ticker\": {\"type\": \"CategoricalTicker\", \"id\": \"914be7e4-b69d-4492-936b-ce1e9902ee13\"}}, \"type\": \"CategoricalAxis\", \"id\": \"c40ad0fc-1fce-4beb-a08d-c205cdb9f585\"}, {\"attributes\": {\"nonselection_glyph\": null, \"data_source\": {\"type\": \"ColumnDataSource\", \"id\": \"9f4c8dc2-7ba1-4628-81d9-5d21e6b54b93\"}, \"selection_glyph\": null, \"hover_glyph\": null, \"glyph\": {\"type\": \"Rect\", \"id\": \"32fd2cb2-c007-4fe1-a2df-1d622413fb1a\"}}, \"type\": \"GlyphRenderer\", \"id\": \"5954468c-3f95-4cc8-bf46-5ae65dbd9c7e\"}, {\"attributes\": {\"callback\": null, \"end\": 6118.875}, \"type\": \"Range1d\", \"id\": \"6f555325-182a-46c4-a910-d8f948012849\"}, {\"attributes\": {\"callback\": null, \"column_names\": [\"line_color\", \"line_alpha\", \"color\", \"fill_alpha\", \"height\", \"width\", \"y\", \"x\"], \"data\": {\"line_color\": [\"white\"], \"line_alpha\": [1.0], \"chart_index\": [{\"cyl\": 8}], \"color\": [\"#f22c40\"], \"fill_alpha\": [0.8], \"height\": [1541.2], \"width\": [0.8], \"y\": [770.6], \"x\": [\"8\"], \"cyl\": [8]}}, \"type\": \"ColumnDataSource\", \"id\": \"36f32884-4379-4229-8520-f827df4717ab\"}, {\"attributes\": {\"plot\": {\"subtype\": \"Chart\", \"type\": \"Plot\", \"id\": \"06fd04fe-3956-4200-8553-33e5fa893a31\"}}, \"type\": \"ResetTool\", \"id\": \"d0e428a9-0744-4e52-9610-409a8779d604\"}, {\"attributes\": {\"plot\": {\"subtype\": \"Chart\", \"type\": \"Plot\", \"id\": \"06fd04fe-3956-4200-8553-33e5fa893a31\"}, \"axis_label\": \"Sum( Mpg )\", \"formatter\": {\"type\": \"BasicTickFormatter\", \"id\": \"22381773-18d7-457b-bcae-a3972e1e93ec\"}, \"ticker\": {\"type\": \"BasicTicker\", \"id\": \"fce31227-1207-4555-aef3-4e508c267ed7\"}}, \"type\": \"LinearAxis\", \"id\": \"96716a88-259b-4626-abf0-ecffd541cd9a\"}, {\"attributes\": {\"plot\": {\"subtype\": \"Chart\", \"type\": \"Plot\", \"id\": \"06fd04fe-3956-4200-8553-33e5fa893a31\"}, \"ticker\": {\"type\": \"BasicTicker\", \"id\": \"fce31227-1207-4555-aef3-4e508c267ed7\"}, \"dimension\": 1}, \"type\": \"Grid\", \"id\": \"77e8fec8-01fd-42b9-ac6c-c70753c9cc56\"}, {\"attributes\": {\"nonselection_glyph\": null, \"data_source\": {\"type\": \"ColumnDataSource\", \"id\": \"e34368da-f641-4a07-bbe9-34514d18351b\"}, \"selection_glyph\": null, \"hover_glyph\": null, \"glyph\": {\"type\": \"Rect\", \"id\": \"61e6c972-7114-46b4-8750-1ed06d782f05\"}}, \"type\": \"GlyphRenderer\", \"id\": \"b5f54725-ff0b-4e49-8894-f711fafa8b96\"}, {\"attributes\": {\"nonselection_glyph\": null, \"data_source\": {\"type\": \"ColumnDataSource\", \"id\": \"36f32884-4379-4229-8520-f827df4717ab\"}, \"selection_glyph\": null, \"hover_glyph\": null, \"glyph\": {\"type\": \"Rect\", \"id\": \"7c0e3c0b-83cc-40f9-91a8-47976492e76a\"}}, \"type\": \"GlyphRenderer\", \"id\": \"1c908134-a344-4416-8175-21ab084a3a3b\"}, {\"attributes\": {}, \"type\": \"ToolEvents\", \"id\": \"c62f9cef-d29c-4857-9d73-33d2219d40a8\"}, {\"attributes\": {}, \"type\": \"BasicTicker\", \"id\": \"fce31227-1207-4555-aef3-4e508c267ed7\"}, {\"attributes\": {\"x_range\": {\"type\": \"FactorRange\", \"id\": \"43493067-10e6-4c18-b1bf-9bc4704cd5c6\"}, \"y_mapper_type\": \"auto\", \"title_text_font_size\": {\"value\": \"14pt\"}, \"title\": \"Total MPG by CYL\", \"y_range\": {\"type\": \"Range1d\", \"id\": \"6f555325-182a-46c4-a910-d8f948012849\"}, \"x_mapper_type\": \"auto\", \"yscale\": \"auto\", \"renderers\": [{\"type\": \"BoxAnnotation\", \"id\": \"393925d2-5865-4266-9b27-cc353a21779c\"}, {\"type\": \"GlyphRenderer\", \"id\": \"1c908134-a344-4416-8175-21ab084a3a3b\"}, {\"type\": \"GlyphRenderer\", \"id\": \"fe3d0b21-567b-4ae9-a397-d82018ad3c6e\"}, {\"type\": \"GlyphRenderer\", \"id\": \"b5f54725-ff0b-4e49-8894-f711fafa8b96\"}, {\"type\": \"GlyphRenderer\", \"id\": \"5954468c-3f95-4cc8-bf46-5ae65dbd9c7e\"}, {\"type\": \"GlyphRenderer\", \"id\": \"5ccd344c-5f0e-44cf-bd92-23452d544837\"}, {\"type\": \"CategoricalAxis\", \"id\": \"c40ad0fc-1fce-4beb-a08d-c205cdb9f585\"}, {\"type\": \"LinearAxis\", \"id\": \"96716a88-259b-4626-abf0-ecffd541cd9a\"}, {\"type\": \"Grid\", \"id\": \"77e8fec8-01fd-42b9-ac6c-c70753c9cc56\"}], \"xgrid\": false, \"below\": [{\"type\": \"CategoricalAxis\", \"id\": \"c40ad0fc-1fce-4beb-a08d-c205cdb9f585\"}], \"tool_events\": {\"type\": \"ToolEvents\", \"id\": \"c62f9cef-d29c-4857-9d73-33d2219d40a8\"}, \"xscale\": \"auto\", \"tools\": [{\"type\": \"PanTool\", \"id\": \"96d148d0-0ae7-434c-8391-19eb25c69282\"}, {\"type\": \"WheelZoomTool\", \"id\": \"abf0c30d-b518-4968-a586-49609fc76fd9\"}, {\"type\": \"BoxZoomTool\", \"id\": \"d68cb5fd-930b-4a3d-a500-a8c374a92bf4\"}, {\"type\": \"PreviewSaveTool\", \"id\": \"5152f246-b4d1-48a0-bca0-e5d891ea10e1\"}, {\"type\": \"ResizeTool\", \"id\": \"a63e28c6-1a0e-4762-b04a-485dbb4791ca\"}, {\"type\": \"ResetTool\", \"id\": \"d0e428a9-0744-4e52-9610-409a8779d604\"}, {\"type\": \"HelpTool\", \"id\": \"5289e6bf-3b53-411b-90da-ea4d47e0b9e6\"}], \"legend\": null, \"left\": [{\"type\": \"LinearAxis\", \"id\": \"96716a88-259b-4626-abf0-ecffd541cd9a\"}]}, \"type\": \"Plot\", \"id\": \"06fd04fe-3956-4200-8553-33e5fa893a31\", \"subtype\": \"Chart\"}, {\"attributes\": {\"plot\": {\"subtype\": \"Chart\", \"type\": \"Plot\", \"id\": \"06fd04fe-3956-4200-8553-33e5fa893a31\"}}, \"type\": \"PanTool\", \"id\": \"96d148d0-0ae7-434c-8391-19eb25c69282\"}, {\"attributes\": {}, \"type\": \"CategoricalTickFormatter\", \"id\": \"a2d5d3a6-95c1-4bc5-bae3-161d781fa28e\"}, {\"attributes\": {\"nonselection_glyph\": null, \"data_source\": {\"type\": \"ColumnDataSource\", \"id\": \"7a4e2d35-4612-44a0-b218-dbac025bbc3c\"}, \"selection_glyph\": null, \"hover_glyph\": null, \"glyph\": {\"type\": \"Rect\", \"id\": \"b118a812-a483-40b8-9eb7-485530537d6d\"}}, \"type\": \"GlyphRenderer\", \"id\": \"5ccd344c-5f0e-44cf-bd92-23452d544837\"}, {\"attributes\": {}, \"type\": \"CategoricalTicker\", \"id\": \"914be7e4-b69d-4492-936b-ce1e9902ee13\"}, {\"attributes\": {\"callback\": null, \"column_names\": [\"line_color\", \"line_alpha\", \"color\", \"fill_alpha\", \"height\", \"width\", \"y\", \"x\"], \"data\": {\"line_color\": [\"white\"], \"line_alpha\": [1.0], \"chart_index\": [{\"cyl\": 3}], \"color\": [\"#f22c40\"], \"fill_alpha\": [0.8], \"height\": [82.2], \"width\": [0.8], \"y\": [41.1], \"x\": [\"3\"], \"cyl\": [3]}}, \"type\": \"ColumnDataSource\", \"id\": \"9f4c8dc2-7ba1-4628-81d9-5d21e6b54b93\"}, {\"attributes\": {\"callback\": null, \"column_names\": [\"line_color\", \"line_alpha\", \"color\", \"fill_alpha\", \"height\", \"width\", \"y\", \"x\"], \"data\": {\"line_color\": [\"white\"], \"line_alpha\": [1.0], \"chart_index\": [{\"cyl\": 5}], \"color\": [\"#f22c40\"], \"fill_alpha\": [0.8], \"height\": [82.1], \"width\": [0.8], \"y\": [41.05], \"x\": [\"5\"], \"cyl\": [5]}}, \"type\": \"ColumnDataSource\", \"id\": \"7a4e2d35-4612-44a0-b218-dbac025bbc3c\"}, {\"attributes\": {\"line_color\": {\"field\": \"line_color\"}, \"fill_color\": {\"field\": \"color\"}, \"fill_alpha\": {\"field\": \"fill_alpha\"}, \"height\": {\"units\": \"data\", \"field\": \"height\"}, \"width\": {\"units\": \"data\", \"field\": \"width\"}, \"y\": {\"field\": \"y\"}, \"x\": {\"field\": \"x\"}}, \"type\": \"Rect\", \"id\": \"61e6c972-7114-46b4-8750-1ed06d782f05\"}, {\"attributes\": {\"plot\": {\"subtype\": \"Chart\", \"type\": \"Plot\", \"id\": \"06fd04fe-3956-4200-8553-33e5fa893a31\"}}, \"type\": \"HelpTool\", \"id\": \"5289e6bf-3b53-411b-90da-ea4d47e0b9e6\"}, {\"attributes\": {\"callback\": null, \"column_names\": [\"line_color\", \"line_alpha\", \"color\", \"fill_alpha\", \"height\", \"width\", \"y\", \"x\"], \"data\": {\"line_color\": [\"white\"], \"line_alpha\": [1.0], \"chart_index\": [{\"cyl\": 6}], \"color\": [\"#f22c40\"], \"fill_alpha\": [0.8], \"height\": [1657.8], \"width\": [0.8], \"y\": [828.9], \"x\": [\"6\"], \"cyl\": [6]}}, \"type\": \"ColumnDataSource\", \"id\": \"e34368da-f641-4a07-bbe9-34514d18351b\"}]}, \"title\": \"Bokeh Application\"}};\n",
       "            var render_items = [{\"notebook_comms_target\": \"7c0b692a-3e9c-46e3-8f45-1244f17375dd\", \"docid\": \"f7fe0e7a-b462-486d-ac48-cf7e3d65a0c8\", \"elementid\": \"e65b783c-927d-4335-983e-fd34815c700f\", \"modelid\": \"06fd04fe-3956-4200-8553-33e5fa893a31\"}];\n",
       "            \n",
       "            Bokeh.embed.embed_items(docs_json, render_items);\n",
       "        });\n",
       "      },\n",
       "      function(Bokeh) {\n",
       "      }\n",
       "    ];\n",
       "  \n",
       "    function run_inline_js() {\n",
       "      for (var i = 0; i < inline_js.length; i++) {\n",
       "        inline_js[i](window.Bokeh);\n",
       "      }\n",
       "    }\n",
       "  \n",
       "    if (window._bokeh_is_loading === 0) {\n",
       "      console.log(\"Bokeh: BokehJS loaded, going straight to plotting\");\n",
       "      run_inline_js();\n",
       "    } else {\n",
       "      load_libs(js_urls, function() {\n",
       "        console.log(\"Bokeh: BokehJS plotting callback run at\", now());\n",
       "        run_inline_js();\n",
       "      });\n",
       "    }\n",
       "  }(this));\n",
       "</script>"
      ]
     },
     "metadata": {},
     "output_type": "display_data"
    },
    {
     "data": {
      "text/plain": [
       "<bokeh.io._CommsHandle at 0x10d055810>"
      ]
     },
     "execution_count": 2,
     "metadata": {},
     "output_type": "execute_result"
    }
   ],
   "source": [
    "from bokeh.charts import Bar, output_file, output_notebook, show\n",
    "from bokeh.sampledata.autompg import autompg as df\n",
    "\n",
    "p = Bar(df, 'cyl', values='mpg', title=\"Total MPG by CYL\")\n",
    "\n",
    "output_notebook()\n",
    "\n",
    "show(p)"
   ]
  },
  {
   "cell_type": "markdown",
   "metadata": {},
   "source": [
    "We include some commentary on the notebook here."
   ]
  },
  {
   "cell_type": "code",
   "execution_count": null,
   "metadata": {
    "collapsed": true
   },
   "outputs": [],
   "source": []
  }
 ],
 "metadata": {
  "kernelspec": {
   "display_name": "Python 2",
   "language": "python",
   "name": "python2"
  },
  "language_info": {
   "codemirror_mode": {
    "name": "ipython",
    "version": 2
   },
   "file_extension": ".py",
   "mimetype": "text/x-python",
   "name": "python",
   "nbconvert_exporter": "python",
   "pygments_lexer": "ipython2",
   "version": "2.7.6"
  }
 },
 "nbformat": 4,
 "nbformat_minor": 0
}
